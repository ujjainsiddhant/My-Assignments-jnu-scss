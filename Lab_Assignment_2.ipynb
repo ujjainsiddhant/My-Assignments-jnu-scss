{
 "cells": [
  {
   "cell_type": "code",
   "execution_count": 93,
   "metadata": {
    "collapsed": true
   },
   "outputs": [],
   "source": [
    "from itertools import product\n",
    "import random"
   ]
  },
  {
   "cell_type": "code",
   "execution_count": 94,
   "metadata": {
    "collapsed": true
   },
   "outputs": [],
   "source": [
    " N=2  # no of dice\n",
    "    \n",
    "M= set(product([1,2,3,4,5,6] , repeat=N))  "
   ]
  },
  {
   "cell_type": "code",
   "execution_count": 95,
   "metadata": {},
   "outputs": [
    {
     "name": "stdout",
     "output_type": "stream",
     "text": [
      "{(1, 3), (6, 6), (5, 6), (2, 1), (6, 2), (1, 6), (5, 1), (2, 5), (1, 2), (3, 3), (5, 5), (4, 4), (6, 3), (1, 5), (3, 6), (2, 2), (4, 1), (1, 1), (6, 4), (3, 2), (2, 6), (5, 4), (4, 5), (5, 2), (1, 4), (2, 3), (4, 2), (6, 5), (3, 5), (5, 3), (4, 6), (6, 1), (3, 1), (4, 3), (3, 4), (2, 4)}\n"
     ]
    }
   ],
   "source": [
    "print(M) # print sample space"
   ]
  },
  {
   "cell_type": "code",
   "execution_count": 96,
   "metadata": {},
   "outputs": [
    {
     "name": "stdout",
     "output_type": "stream",
     "text": [
      "36\n"
     ]
    }
   ],
   "source": [
    "print(len(M))"
   ]
  },
  {
   "cell_type": "code",
   "execution_count": 97,
   "metadata": {
    "collapsed": true
   },
   "outputs": [],
   "source": [
    "E1={X for X in M if X[0]+X[1]==2} # sum of the no. on dices is 2\n",
    "\n",
    "E2={X for X in M if X[0]+X[1]==3} # sum of the no. on dices is 3\n",
    "\n",
    "E3={X for X in M if X[0]+X[1]==4} # sum of the no. on dices is 4\n",
    "\n",
    "E4={X for X in M if X[0]+X[1]==5}  # sum of the no. on dices is 5\n",
    "\n",
    "E5={X for X in M if X[0]+X[1]==6}  # sum of the no. on dices is 6\n",
    "\n",
    "E6={X for X in M if X[0]+X[1]==7}  # sum of the no. on dices is 7\n",
    "\n",
    "E7={X for X in M if X[0]+X[1]==8}  # sum of the no. on dices is 8\n",
    "\n",
    "E8={X for X in M if X[0]+X[1]==9}   # sum of the no. on dices is 9\n",
    "\n",
    "E9={X for X in M if X[0]+X[1]==10}  # sum of the no. on dices is 10\n",
    "\n",
    "E10={X for X in M if X[0]+X[1]==11}  # sum of the no. on dices is 11\n",
    "\n",
    "E11={X for X in M if X[0]+X[1]==12}  # sum of the no. on dices is 12\n",
    "\n",
    "\n",
    "\n"
   ]
  },
  {
   "cell_type": "code",
   "execution_count": 98,
   "metadata": {},
   "outputs": [
    {
     "data": {
      "text/plain": [
       "({(1, 1)},\n",
       " {(1, 2), (2, 1)},\n",
       " {(1, 3), (2, 2), (3, 1)},\n",
       " {(1, 5), (2, 4), (3, 3), (4, 2), (5, 1)},\n",
       " {(1, 6), (2, 5), (3, 4), (4, 3), (5, 2), (6, 1)},\n",
       " {(2, 6), (3, 5), (4, 4), (5, 3), (6, 2)},\n",
       " {(3, 6), (4, 5), (5, 4), (6, 3)},\n",
       " {(4, 6), (5, 5), (6, 4)},\n",
       " {(5, 6), (6, 5)},\n",
       " {(6, 6)})"
      ]
     },
     "execution_count": 98,
     "metadata": {},
     "output_type": "execute_result"
    }
   ],
   "source": [
    "E1,E2,E3,E5,E6,E7,E8,E9,E10,E11 # print all possible event\n"
   ]
  },
  {
   "cell_type": "code",
   "execution_count": 99,
   "metadata": {
    "collapsed": true
   },
   "outputs": [],
   "source": [
    "P=[E1,E2,E3,E4,E5,E6,E7,E8,E9,E10,E11]\n",
    "Event= random.choice(P) # that select an event randomly from all possible event set"
   ]
  },
  {
   "cell_type": "code",
   "execution_count": 100,
   "metadata": {},
   "outputs": [
    {
     "name": "stdout",
     "output_type": "stream",
     "text": [
      "{(6, 4), (4, 6), (5, 5)}\n"
     ]
    }
   ],
   "source": [
    "print(Event)"
   ]
  },
  {
   "cell_type": "code",
   "execution_count": 101,
   "metadata": {},
   "outputs": [
    {
     "name": "stdout",
     "output_type": "stream",
     "text": [
      "3\n"
     ]
    }
   ],
   "source": [
    "print(len(Event))"
   ]
  },
  {
   "cell_type": "code",
   "execution_count": 102,
   "metadata": {
    "collapsed": true
   },
   "outputs": [],
   "source": [
    "Probability=len(Event)/len(M)"
   ]
  },
  {
   "cell_type": "code",
   "execution_count": 103,
   "metadata": {},
   "outputs": [
    {
     "name": "stdout",
     "output_type": "stream",
     "text": [
      "0.08333333333333333\n"
     ]
    }
   ],
   "source": [
    "print(Probability)"
   ]
  }
 ],
 "metadata": {
  "kernelspec": {
   "display_name": "Python 3",
   "language": "python",
   "name": "python3"
  },
  "language_info": {
   "codemirror_mode": {
    "name": "ipython",
    "version": 3
   },
   "file_extension": ".py",
   "mimetype": "text/x-python",
   "name": "python",
   "nbconvert_exporter": "python",
   "pygments_lexer": "ipython3",
   "version": "3.6.3"
  }
 },
 "nbformat": 4,
 "nbformat_minor": 2
}
